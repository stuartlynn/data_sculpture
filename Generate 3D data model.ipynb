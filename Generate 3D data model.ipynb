{
 "cells": [
  {
   "cell_type": "code",
   "execution_count": 98,
   "metadata": {
    "collapsed": false
   },
   "outputs": [],
   "source": [
    "import pandas as pd \n",
    "import solid \n",
    "from math import * "
   ]
  },
  {
   "cell_type": "code",
   "execution_count": 3,
   "metadata": {
    "collapsed": true
   },
   "outputs": [],
   "source": [
    "data = pd.read_csv('https://data.cityofchicago.org/api/views/9m5u-3f29/rows.csv?accessType=DOWNLOAD')"
   ]
  },
  {
   "cell_type": "code",
   "execution_count": 26,
   "metadata": {
    "collapsed": false
   },
   "outputs": [
    {
     "data": {
      "text/html": [
       "<div>\n",
       "<table border=\"1\" class=\"dataframe\">\n",
       "  <thead>\n",
       "    <tr style=\"text-align: right;\">\n",
       "      <th></th>\n",
       "      <th>Average Days to Complete Graffiti Removal</th>\n",
       "      <th>Total Completed Requests</th>\n",
       "      <th>Median Days to Complete Graffiti Removal Request</th>\n",
       "      <th>Target Response Time (Days)</th>\n",
       "    </tr>\n",
       "  </thead>\n",
       "  <tbody>\n",
       "    <tr>\n",
       "      <th>count</th>\n",
       "      <td>28.000000</td>\n",
       "      <td>28.000000</td>\n",
       "      <td>27.000000</td>\n",
       "      <td>2</td>\n",
       "    </tr>\n",
       "    <tr>\n",
       "      <th>mean</th>\n",
       "      <td>7.456429</td>\n",
       "      <td>2099.785714</td>\n",
       "      <td>2.962963</td>\n",
       "      <td>10</td>\n",
       "    </tr>\n",
       "    <tr>\n",
       "      <th>std</th>\n",
       "      <td>2.088088</td>\n",
       "      <td>340.938830</td>\n",
       "      <td>1.192331</td>\n",
       "      <td>0</td>\n",
       "    </tr>\n",
       "    <tr>\n",
       "      <th>min</th>\n",
       "      <td>3.100000</td>\n",
       "      <td>1430.000000</td>\n",
       "      <td>1.000000</td>\n",
       "      <td>10</td>\n",
       "    </tr>\n",
       "    <tr>\n",
       "      <th>25%</th>\n",
       "      <td>6.047500</td>\n",
       "      <td>1927.500000</td>\n",
       "      <td>2.000000</td>\n",
       "      <td>10</td>\n",
       "    </tr>\n",
       "    <tr>\n",
       "      <th>50%</th>\n",
       "      <td>7.325000</td>\n",
       "      <td>2160.000000</td>\n",
       "      <td>3.000000</td>\n",
       "      <td>10</td>\n",
       "    </tr>\n",
       "    <tr>\n",
       "      <th>75%</th>\n",
       "      <td>9.175000</td>\n",
       "      <td>2309.000000</td>\n",
       "      <td>4.000000</td>\n",
       "      <td>10</td>\n",
       "    </tr>\n",
       "    <tr>\n",
       "      <th>max</th>\n",
       "      <td>11.570000</td>\n",
       "      <td>2706.000000</td>\n",
       "      <td>5.000000</td>\n",
       "      <td>10</td>\n",
       "    </tr>\n",
       "  </tbody>\n",
       "</table>\n",
       "</div>"
      ],
      "text/plain": [
       "       Average Days to Complete Graffiti Removal  Total Completed Requests  \\\n",
       "count                                  28.000000                 28.000000   \n",
       "mean                                    7.456429               2099.785714   \n",
       "std                                     2.088088                340.938830   \n",
       "min                                     3.100000               1430.000000   \n",
       "25%                                     6.047500               1927.500000   \n",
       "50%                                     7.325000               2160.000000   \n",
       "75%                                     9.175000               2309.000000   \n",
       "max                                    11.570000               2706.000000   \n",
       "\n",
       "       Median Days to Complete Graffiti Removal Request  \\\n",
       "count                                         27.000000   \n",
       "mean                                           2.962963   \n",
       "std                                            1.192331   \n",
       "min                                            1.000000   \n",
       "25%                                            2.000000   \n",
       "50%                                            3.000000   \n",
       "75%                                            4.000000   \n",
       "max                                            5.000000   \n",
       "\n",
       "       Target Response Time (Days)  \n",
       "count                            2  \n",
       "mean                            10  \n",
       "std                              0  \n",
       "min                             10  \n",
       "25%                             10  \n",
       "50%                             10  \n",
       "75%                             10  \n",
       "max                             10  "
      ]
     },
     "execution_count": 26,
     "metadata": {},
     "output_type": "execute_result"
    }
   ],
   "source": [
    "data.describe()"
   ]
  },
  {
   "cell_type": "code",
   "execution_count": 14,
   "metadata": {
    "collapsed": false
   },
   "outputs": [],
   "source": [
    "polygon =solid.polygon(([1,2],[2,3],[1,3],[2,2]))"
   ]
  },
  {
   "cell_type": "code",
   "execution_count": 20,
   "metadata": {
    "collapsed": false
   },
   "outputs": [
    {
     "data": {
      "text/plain": [
       "<function solid.utils.extrude_along_path>"
      ]
     },
     "execution_count": 20,
     "metadata": {},
     "output_type": "execute_result"
    }
   ],
   "source": [
    "from solid.utils import *\n",
    "extrude_along_path"
   ]
  },
  {
   "cell_type": "code",
   "execution_count": 21,
   "metadata": {
    "collapsed": true
   },
   "outputs": [],
   "source": [
    "def path():\n",
    "    return [Point3(0,0,0), Point3(0,0,1)]"
   ]
  },
  {
   "cell_type": "code",
   "execution_count": 24,
   "metadata": {
    "collapsed": false
   },
   "outputs": [],
   "source": [
    "shape =extrude_along_path(shape_pts=[Point3(1,2,0),Point3(2,3,0),Point3(1,3,0),Point3(2,2,0)], path_pts=path())"
   ]
  },
  {
   "cell_type": "code",
   "execution_count": 25,
   "metadata": {
    "collapsed": false
   },
   "outputs": [
    {
     "name": "stdout",
     "output_type": "stream",
     "text": [
      "\n",
      "\n",
      "polyhedron(points = [[0.0000000000, 0.0000000000, 0.0000000000], [0.0000000000, 0.0000000000, 0.0000000000], [0.0000000000, 0.0000000000, 0.0000000000], [0.0000000000, 0.0000000000, 0.0000000000], [0.0000000000, 0.0000000000, 1.0000000000], [0.0000000000, 0.0000000000, 1.0000000000], [0.0000000000, 0.0000000000, 1.0000000000], [0.0000000000, 0.0000000000, 1.0000000000]], triangles = [[0, 4, 1], [1, 4, 5], [1, 5, 2], [2, 5, 6], [2, 6, 3], [3, 6, 7], [0, 3, 7], [0, 7, 4], [0, 1, 2], [0, 2, 3], [4, 6, 5], [4, 7, 6]]);\n"
     ]
    }
   ],
   "source": []
  },
  {
   "cell_type": "code",
   "execution_count": 16,
   "metadata": {
    "collapsed": false
   },
   "outputs": [
    {
     "name": "stdout",
     "output_type": "stream",
     "text": [
      "\n",
      "\n",
      "difference() {\n",
      "\tcube(size = 10);\n",
      "\tsphere(r = 15);\n",
      "}\n"
     ]
    }
   ],
   "source": [
    "from solid import *\n",
    "d = difference()(\n",
    "    cube(10),\n",
    "    sphere(15)\n",
    ")\n",
    "print(scad_render(d))"
   ]
  },
  {
   "cell_type": "markdown",
   "metadata": {},
   "source": [
    "## Get data"
   ]
  },
  {
   "cell_type": "code",
   "execution_count": 99,
   "metadata": {
    "collapsed": false
   },
   "outputs": [],
   "source": [
    "a = []\n",
    "for i in range(1,13):\n",
    "    monthly = pd.read_csv('https://www.ncdc.noaa.gov/cag/time-series/global/globe/land_ocean/1/{0}/1880-2015.csv'.format(i), header=3)\n",
    "    monthly['month'] = i\n",
    "    a.append(monthly)\n",
    "total = pd.concat(a)"
   ]
  },
  {
   "cell_type": "code",
   "execution_count": 117,
   "metadata": {
    "collapsed": false
   },
   "outputs": [],
   "source": [
    "def angle(month):\n",
    "    return (month/12.)*2*pi"
   ]
  },
  {
   "cell_type": "code",
   "execution_count": 163,
   "metadata": {
    "collapsed": true
   },
   "outputs": [],
   "source": [
    "def radius(data,max=100,min=10):\n",
    "    return (data - min_val)*(max-min)/(max_val-min_val) + min"
   ]
  },
  {
   "cell_type": "code",
   "execution_count": 170,
   "metadata": {
    "collapsed": false
   },
   "outputs": [],
   "source": [
    "max_val, min_val = total['Value'].max(), total['Value'].min()\n",
    "segment_height = 2"
   ]
  },
  {
   "cell_type": "code",
   "execution_count": 171,
   "metadata": {
    "collapsed": false
   },
   "outputs": [],
   "source": [
    "def year_path( values, months, height= 10):\n",
    "    shape = [[radius(d)*sin(angle(month-1)), radius(d)*cos(angle(month-1))] for month,d in zip(months, values)]\n",
    "    return linear_extrude(height=height)(polygon(points=shape))"
   ]
  },
  {
   "cell_type": "code",
   "execution_count": 172,
   "metadata": {
    "collapsed": false
   },
   "outputs": [],
   "source": [
    "segments = []\n",
    "for offset, year  in enumerate(range(total['Year'].min(), total['Year'].max())):\n",
    "    data = total[total['Year']==year].sort(columns='month', ascending=True)\n",
    "    segments.append(up(segment_height*offset)(year_path(data['Value'], data['month'],height=segment_height)))\n",
    "final = union()(segments)"
   ]
  },
  {
   "cell_type": "code",
   "execution_count": 173,
   "metadata": {
    "collapsed": false
   },
   "outputs": [],
   "source": [
    "with open('sculpture.scad', 'w') as f:\n",
    "    f.write(scad_render(final).replace('triangles','faces'))"
   ]
  },
  {
   "cell_type": "code",
   "execution_count": 174,
   "metadata": {
    "collapsed": true
   },
   "outputs": [],
   "source": [
    "polygon??"
   ]
  },
  {
   "cell_type": "code",
   "execution_count": null,
   "metadata": {
    "collapsed": true
   },
   "outputs": [],
   "source": []
  }
 ],
 "metadata": {
  "kernelspec": {
   "display_name": "Python 2",
   "language": "python",
   "name": "python2"
  },
  "language_info": {
   "codemirror_mode": {
    "name": "ipython",
    "version": 2
   },
   "file_extension": ".py",
   "mimetype": "text/x-python",
   "name": "python",
   "nbconvert_exporter": "python",
   "pygments_lexer": "ipython2",
   "version": "2.7.11"
  }
 },
 "nbformat": 4,
 "nbformat_minor": 0
}
