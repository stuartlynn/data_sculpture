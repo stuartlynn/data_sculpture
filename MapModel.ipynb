{
 "cells": [
  {
   "cell_type": "code",
   "execution_count": 26,
   "metadata": {
    "collapsed": false
   },
   "outputs": [
    {
     "data": {
      "text/plain": [
       "<function solid.utils.extrude_along_path>"
      ]
     },
     "execution_count": 26,
     "metadata": {},
     "output_type": "execute_result"
    }
   ],
   "source": [
    "import pandas as pd \n",
    "import solid \n",
    "import json\n",
    "from urllib import urlencode\n",
    "from subprocess import call\n",
    "\n",
    "from solid.utils import *\n",
    "extrude_along_path"
   ]
  },
  {
   "cell_type": "code",
   "execution_count": 27,
   "metadata": {
    "collapsed": true
   },
   "outputs": [],
   "source": [
    "query = {'q':'''\n",
    "        SELECT cartodb_id,  \n",
    "        ST_AsGeoJSON( ST_SIMPLIFY(the_geom,0.01)),\n",
    "        percent_white from \n",
    "        us_census_acs2013_5yr_county_copy \n",
    "        where ST_IsEmpty( ST_Simplify(the_geom,0.01) ) = false ''', 'format':'csv'}"
   ]
  },
  {
   "cell_type": "code",
   "execution_count": 28,
   "metadata": {
    "collapsed": false
   },
   "outputs": [],
   "source": [
    "data = pd.read_csv('https://observatory.cartodb.com/api/v2/sql?'+urlencode(query))"
   ]
  },
  {
   "cell_type": "code",
   "execution_count": 29,
   "metadata": {
    "collapsed": false
   },
   "outputs": [],
   "source": [
    "def extract_geometry(data):\n",
    "    path = json.loads(data.st_asgeojson)['coordinates'][0][0]\n",
    "    \n",
    "    return render()((linear_extrude(height=data.percent_white/10.0)(polygon(points=path))))"
   ]
  },
  {
   "cell_type": "code",
   "execution_count": 30,
   "metadata": {
    "collapsed": false
   },
   "outputs": [],
   "source": [
    "polygons = data.apply(extract_geometry, axis=1)"
   ]
  },
  {
   "cell_type": "code",
   "execution_count": 33,
   "metadata": {
    "collapsed": false
   },
   "outputs": [],
   "source": [
    "model = union()(list(polygons.as_matrix()))"
   ]
  },
  {
   "cell_type": "code",
   "execution_count": null,
   "metadata": {
    "collapsed": false
   },
   "outputs": [],
   "source": [
    "with open('us_model2.scad', 'w') as f:\n",
    "    f.write(scad_render(model).replace('triangles','faces'))\n",
    "print call(['/Applications/OpenSCAD.app/Contents/MacOS/OpenSCAD',\n",
    "          '-o', \n",
    "          'us_model2.stl', \n",
    "          'us_model2.scad'])   "
   ]
  },
  {
   "cell_type": "code",
   "execution_count": null,
   "metadata": {
    "collapsed": true
   },
   "outputs": [],
   "source": []
  }
 ],
 "metadata": {
  "kernelspec": {
   "display_name": "Python 2",
   "language": "python",
   "name": "python2"
  },
  "language_info": {
   "codemirror_mode": {
    "name": "ipython",
    "version": 2
   },
   "file_extension": ".py",
   "mimetype": "text/x-python",
   "name": "python",
   "nbconvert_exporter": "python",
   "pygments_lexer": "ipython2",
   "version": "2.7.11"
  }
 },
 "nbformat": 4,
 "nbformat_minor": 0
}
